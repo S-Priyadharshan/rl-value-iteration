{
  "cells": [
    {
      "cell_type": "code",
      "execution_count": 2,
      "metadata": {
        "id": "X-NPnX6RC8EL",
        "colab": {
          "base_uri": "https://localhost:8080/"
        },
        "outputId": "8d33781d-23af-43b8-ef6e-b4f92599ec33"
      },
      "outputs": [
        {
          "output_type": "stream",
          "name": "stderr",
          "text": [
            "Gym has been unmaintained since 2022 and does not support NumPy 2.0 amongst other critical functionality.\n",
            "Please upgrade to Gymnasium, the maintained drop-in replacement of Gym, or contact the authors of your software and request that they upgrade.\n",
            "See the migration guide at https://gymnasium.farama.org/introduction/migration_guide/ for additional information.\n"
          ]
        }
      ],
      "source": [
        "import warnings ; warnings.filterwarnings('ignore')\n",
        "\n",
        "import gym, gym_walk\n",
        "import numpy as np\n",
        "\n",
        "import random\n",
        "import warnings\n",
        "\n",
        "warnings.filterwarnings('ignore', category=DeprecationWarning)\n",
        "np.set_printoptions(suppress=True)\n",
        "random.seed(123); np.random.seed(123)\n"
      ]
    },
    {
      "cell_type": "code",
      "execution_count": 1,
      "metadata": {
        "id": "Xq4FC7N-DYqX",
        "colab": {
          "base_uri": "https://localhost:8080/"
        },
        "outputId": "9f6b6f6a-345e-4394-b22d-7a3fae06b600"
      },
      "outputs": [
        {
          "output_type": "stream",
          "name": "stdout",
          "text": [
            "Collecting gym-walk\n",
            "  Cloning https://github.com/mimoralea/gym-walk to /tmp/pip-install-d6h9ihom/gym-walk_c1756c69539a4dd49cc7e21820f5c0cd\n",
            "  Running command git clone --filter=blob:none --quiet https://github.com/mimoralea/gym-walk /tmp/pip-install-d6h9ihom/gym-walk_c1756c69539a4dd49cc7e21820f5c0cd\n",
            "  Resolved https://github.com/mimoralea/gym-walk to commit b915b94cf2ad16f8833a1ad92ea94e88159279f5\n",
            "  Preparing metadata (setup.py) ... \u001b[?25l\u001b[?25hdone\n",
            "Requirement already satisfied: gym in /usr/local/lib/python3.12/dist-packages (from gym-walk) (0.25.2)\n",
            "Requirement already satisfied: numpy>=1.18.0 in /usr/local/lib/python3.12/dist-packages (from gym->gym-walk) (2.0.2)\n",
            "Requirement already satisfied: cloudpickle>=1.2.0 in /usr/local/lib/python3.12/dist-packages (from gym->gym-walk) (3.1.1)\n",
            "Requirement already satisfied: gym-notices>=0.0.4 in /usr/local/lib/python3.12/dist-packages (from gym->gym-walk) (0.1.0)\n",
            "Building wheels for collected packages: gym-walk\n",
            "  Building wheel for gym-walk (setup.py) ... \u001b[?25l\u001b[?25hdone\n",
            "  Created wheel for gym-walk: filename=gym_walk-0.0.2-py3-none-any.whl size=5377 sha256=27e6ee05796d2383dafdffdfed9ba523b516590e693db40fb0f78f2fc581ec2c\n",
            "  Stored in directory: /tmp/pip-ephem-wheel-cache-j9iw797_/wheels/bf/23/e5/a94be4a90dd18f7ce958c21f192276cb01ef0daaf2bc66583b\n",
            "Successfully built gym-walk\n",
            "Installing collected packages: gym-walk\n",
            "Successfully installed gym-walk-0.0.2\n"
          ]
        }
      ],
      "source": [
        "pip install git+https://github.com/mimoralea/gym-walk#egg=gym-walk"
      ]
    },
    {
      "cell_type": "code",
      "source": [
        "import numpy as np"
      ],
      "metadata": {
        "id": "rDTDlrccjoss"
      },
      "execution_count": 20,
      "outputs": []
    },
    {
      "cell_type": "code",
      "source": [
        "np.__version__"
      ],
      "metadata": {
        "colab": {
          "base_uri": "https://localhost:8080/",
          "height": 36
        },
        "id": "T-OJZkAJkC5_",
        "outputId": "1cbb3ab4-478d-4743-84cc-296e24934bcb"
      },
      "execution_count": 21,
      "outputs": [
        {
          "output_type": "execute_result",
          "data": {
            "text/plain": [
              "'2.0.2'"
            ],
            "application/vnd.google.colaboratory.intrinsic+json": {
              "type": "string"
            }
          },
          "metadata": {},
          "execution_count": 21
        }
      ]
    },
    {
      "cell_type": "code",
      "execution_count": 3,
      "metadata": {
        "id": "ULnSv0hyELsY"
      },
      "outputs": [],
      "source": [
        "def print_policy(pi, P, action_symbols=('<', 'v', '>', '^'), n_cols=4, title='Policy:'):\n",
        "    print(title)\n",
        "    arrs = {k:v for k,v in enumerate(action_symbols)}\n",
        "    for s in range(len(P)):\n",
        "        a = pi(s)\n",
        "        print(\"| \", end=\"\")\n",
        "        if np.all([done for action in P[s].values() for _, _, _, done in action]):\n",
        "            print(\"\".rjust(9), end=\" \")\n",
        "        else:\n",
        "            print(str(s).zfill(2), arrs[a].rjust(6), end=\" \")\n",
        "        if (s + 1) % n_cols == 0: print(\"|\")"
      ]
    },
    {
      "cell_type": "code",
      "execution_count": 4,
      "metadata": {
        "id": "odrRzhpWFxY6"
      },
      "outputs": [],
      "source": [
        "def print_state_value_function(V, P, n_cols=4, prec=3, title='State-value function:'):\n",
        "    print(title)\n",
        "    for s in range(len(P)):\n",
        "        v = V[s]\n",
        "        print(\"| \", end=\"\")\n",
        "        if np.all([done for action in P[s].values() for _, _, _, done in action]):\n",
        "            print(\"\".rjust(9), end=\" \")\n",
        "        else:\n",
        "            print(str(s).zfill(2), '{}'.format(np.round(v, prec)).rjust(6), end=\" \")\n",
        "        if (s + 1) % n_cols == 0: print(\"|\")"
      ]
    },
    {
      "cell_type": "code",
      "execution_count": 5,
      "metadata": {
        "id": "1TQZrao3KV4z"
      },
      "outputs": [],
      "source": [
        "def probability_success(env, pi, goal_state, n_episodes=100, max_steps=200):\n",
        "    random.seed(123); np.random.seed(123) ; env.seed(123)\n",
        "    results = []\n",
        "    for _ in range(n_episodes):\n",
        "        state, done, steps = env.reset(), False, 0\n",
        "        while not done and steps < max_steps:\n",
        "            state, _, done, h = env.step(pi(state))\n",
        "            steps += 1\n",
        "        results.append(state == goal_state)\n",
        "    return np.sum(results)/len(results)"
      ]
    },
    {
      "cell_type": "code",
      "execution_count": 6,
      "metadata": {
        "id": "Jo6HA0ljKYWS"
      },
      "outputs": [],
      "source": [
        "def mean_return(env, pi, n_episodes=100, max_steps=200):\n",
        "    random.seed(123); np.random.seed(123) ; env.seed(123)\n",
        "    results = []\n",
        "    for _ in range(n_episodes):\n",
        "        state, done, steps = env.reset(), False, 0\n",
        "        results.append(0.0)\n",
        "        while not done and steps < max_steps:\n",
        "            state, reward, done, _ = env.step(pi(state))\n",
        "            results[-1] += reward\n",
        "            steps += 1\n",
        "    return np.mean(results)"
      ]
    },
    {
      "cell_type": "markdown",
      "metadata": {
        "id": "1ibH_URngdY3"
      },
      "source": [
        "# Creating the Frozen Lake environment"
      ]
    },
    {
      "cell_type": "code",
      "execution_count": 8,
      "metadata": {
        "id": "daeOaNMIfPsM"
      },
      "outputs": [],
      "source": [
        "envdesc  = ['SFHH','FFFH','FHFF', 'FFGH']\n",
        "env = gym.make('FrozenLake-v1',desc=envdesc)\n",
        "init_state = env.reset()\n",
        "goal_state = 14\n",
        "P = env.env.P"
      ]
    },
    {
      "cell_type": "code",
      "execution_count": 9,
      "metadata": {
        "id": "gx5F-kzIglWD",
        "colab": {
          "base_uri": "https://localhost:8080/"
        },
        "outputId": "4431e7bf-a8db-4260-e30b-9ad7e1fac8c8"
      },
      "outputs": [
        {
          "output_type": "execute_result",
          "data": {
            "text/plain": [
              "{0: {0: [(0.3333333333333333, 0, 0.0, False),\n",
              "   (0.3333333333333333, 0, 0.0, False),\n",
              "   (0.3333333333333333, 4, 0.0, False)],\n",
              "  1: [(0.3333333333333333, 0, 0.0, False),\n",
              "   (0.3333333333333333, 4, 0.0, False),\n",
              "   (0.3333333333333333, 1, 0.0, False)],\n",
              "  2: [(0.3333333333333333, 4, 0.0, False),\n",
              "   (0.3333333333333333, 1, 0.0, False),\n",
              "   (0.3333333333333333, 0, 0.0, False)],\n",
              "  3: [(0.3333333333333333, 1, 0.0, False),\n",
              "   (0.3333333333333333, 0, 0.0, False),\n",
              "   (0.3333333333333333, 0, 0.0, False)]},\n",
              " 1: {0: [(0.3333333333333333, 1, 0.0, False),\n",
              "   (0.3333333333333333, 0, 0.0, False),\n",
              "   (0.3333333333333333, 5, 0.0, False)],\n",
              "  1: [(0.3333333333333333, 0, 0.0, False),\n",
              "   (0.3333333333333333, 5, 0.0, False),\n",
              "   (0.3333333333333333, 2, 0.0, True)],\n",
              "  2: [(0.3333333333333333, 5, 0.0, False),\n",
              "   (0.3333333333333333, 2, 0.0, True),\n",
              "   (0.3333333333333333, 1, 0.0, False)],\n",
              "  3: [(0.3333333333333333, 2, 0.0, True),\n",
              "   (0.3333333333333333, 1, 0.0, False),\n",
              "   (0.3333333333333333, 0, 0.0, False)]},\n",
              " 2: {0: [(1.0, 2, 0, True)],\n",
              "  1: [(1.0, 2, 0, True)],\n",
              "  2: [(1.0, 2, 0, True)],\n",
              "  3: [(1.0, 2, 0, True)]},\n",
              " 3: {0: [(1.0, 3, 0, True)],\n",
              "  1: [(1.0, 3, 0, True)],\n",
              "  2: [(1.0, 3, 0, True)],\n",
              "  3: [(1.0, 3, 0, True)]},\n",
              " 4: {0: [(0.3333333333333333, 0, 0.0, False),\n",
              "   (0.3333333333333333, 4, 0.0, False),\n",
              "   (0.3333333333333333, 8, 0.0, False)],\n",
              "  1: [(0.3333333333333333, 4, 0.0, False),\n",
              "   (0.3333333333333333, 8, 0.0, False),\n",
              "   (0.3333333333333333, 5, 0.0, False)],\n",
              "  2: [(0.3333333333333333, 8, 0.0, False),\n",
              "   (0.3333333333333333, 5, 0.0, False),\n",
              "   (0.3333333333333333, 0, 0.0, False)],\n",
              "  3: [(0.3333333333333333, 5, 0.0, False),\n",
              "   (0.3333333333333333, 0, 0.0, False),\n",
              "   (0.3333333333333333, 4, 0.0, False)]},\n",
              " 5: {0: [(0.3333333333333333, 1, 0.0, False),\n",
              "   (0.3333333333333333, 4, 0.0, False),\n",
              "   (0.3333333333333333, 9, 0.0, True)],\n",
              "  1: [(0.3333333333333333, 4, 0.0, False),\n",
              "   (0.3333333333333333, 9, 0.0, True),\n",
              "   (0.3333333333333333, 6, 0.0, False)],\n",
              "  2: [(0.3333333333333333, 9, 0.0, True),\n",
              "   (0.3333333333333333, 6, 0.0, False),\n",
              "   (0.3333333333333333, 1, 0.0, False)],\n",
              "  3: [(0.3333333333333333, 6, 0.0, False),\n",
              "   (0.3333333333333333, 1, 0.0, False),\n",
              "   (0.3333333333333333, 4, 0.0, False)]},\n",
              " 6: {0: [(0.3333333333333333, 2, 0.0, True),\n",
              "   (0.3333333333333333, 5, 0.0, False),\n",
              "   (0.3333333333333333, 10, 0.0, False)],\n",
              "  1: [(0.3333333333333333, 5, 0.0, False),\n",
              "   (0.3333333333333333, 10, 0.0, False),\n",
              "   (0.3333333333333333, 7, 0.0, True)],\n",
              "  2: [(0.3333333333333333, 10, 0.0, False),\n",
              "   (0.3333333333333333, 7, 0.0, True),\n",
              "   (0.3333333333333333, 2, 0.0, True)],\n",
              "  3: [(0.3333333333333333, 7, 0.0, True),\n",
              "   (0.3333333333333333, 2, 0.0, True),\n",
              "   (0.3333333333333333, 5, 0.0, False)]},\n",
              " 7: {0: [(1.0, 7, 0, True)],\n",
              "  1: [(1.0, 7, 0, True)],\n",
              "  2: [(1.0, 7, 0, True)],\n",
              "  3: [(1.0, 7, 0, True)]},\n",
              " 8: {0: [(0.3333333333333333, 4, 0.0, False),\n",
              "   (0.3333333333333333, 8, 0.0, False),\n",
              "   (0.3333333333333333, 12, 0.0, False)],\n",
              "  1: [(0.3333333333333333, 8, 0.0, False),\n",
              "   (0.3333333333333333, 12, 0.0, False),\n",
              "   (0.3333333333333333, 9, 0.0, True)],\n",
              "  2: [(0.3333333333333333, 12, 0.0, False),\n",
              "   (0.3333333333333333, 9, 0.0, True),\n",
              "   (0.3333333333333333, 4, 0.0, False)],\n",
              "  3: [(0.3333333333333333, 9, 0.0, True),\n",
              "   (0.3333333333333333, 4, 0.0, False),\n",
              "   (0.3333333333333333, 8, 0.0, False)]},\n",
              " 9: {0: [(1.0, 9, 0, True)],\n",
              "  1: [(1.0, 9, 0, True)],\n",
              "  2: [(1.0, 9, 0, True)],\n",
              "  3: [(1.0, 9, 0, True)]},\n",
              " 10: {0: [(0.3333333333333333, 6, 0.0, False),\n",
              "   (0.3333333333333333, 9, 0.0, True),\n",
              "   (0.3333333333333333, 14, 1.0, True)],\n",
              "  1: [(0.3333333333333333, 9, 0.0, True),\n",
              "   (0.3333333333333333, 14, 1.0, True),\n",
              "   (0.3333333333333333, 11, 0.0, False)],\n",
              "  2: [(0.3333333333333333, 14, 1.0, True),\n",
              "   (0.3333333333333333, 11, 0.0, False),\n",
              "   (0.3333333333333333, 6, 0.0, False)],\n",
              "  3: [(0.3333333333333333, 11, 0.0, False),\n",
              "   (0.3333333333333333, 6, 0.0, False),\n",
              "   (0.3333333333333333, 9, 0.0, True)]},\n",
              " 11: {0: [(0.3333333333333333, 7, 0.0, True),\n",
              "   (0.3333333333333333, 10, 0.0, False),\n",
              "   (0.3333333333333333, 15, 0.0, True)],\n",
              "  1: [(0.3333333333333333, 10, 0.0, False),\n",
              "   (0.3333333333333333, 15, 0.0, True),\n",
              "   (0.3333333333333333, 11, 0.0, False)],\n",
              "  2: [(0.3333333333333333, 15, 0.0, True),\n",
              "   (0.3333333333333333, 11, 0.0, False),\n",
              "   (0.3333333333333333, 7, 0.0, True)],\n",
              "  3: [(0.3333333333333333, 11, 0.0, False),\n",
              "   (0.3333333333333333, 7, 0.0, True),\n",
              "   (0.3333333333333333, 10, 0.0, False)]},\n",
              " 12: {0: [(0.3333333333333333, 8, 0.0, False),\n",
              "   (0.3333333333333333, 12, 0.0, False),\n",
              "   (0.3333333333333333, 12, 0.0, False)],\n",
              "  1: [(0.3333333333333333, 12, 0.0, False),\n",
              "   (0.3333333333333333, 12, 0.0, False),\n",
              "   (0.3333333333333333, 13, 0.0, False)],\n",
              "  2: [(0.3333333333333333, 12, 0.0, False),\n",
              "   (0.3333333333333333, 13, 0.0, False),\n",
              "   (0.3333333333333333, 8, 0.0, False)],\n",
              "  3: [(0.3333333333333333, 13, 0.0, False),\n",
              "   (0.3333333333333333, 8, 0.0, False),\n",
              "   (0.3333333333333333, 12, 0.0, False)]},\n",
              " 13: {0: [(0.3333333333333333, 9, 0.0, True),\n",
              "   (0.3333333333333333, 12, 0.0, False),\n",
              "   (0.3333333333333333, 13, 0.0, False)],\n",
              "  1: [(0.3333333333333333, 12, 0.0, False),\n",
              "   (0.3333333333333333, 13, 0.0, False),\n",
              "   (0.3333333333333333, 14, 1.0, True)],\n",
              "  2: [(0.3333333333333333, 13, 0.0, False),\n",
              "   (0.3333333333333333, 14, 1.0, True),\n",
              "   (0.3333333333333333, 9, 0.0, True)],\n",
              "  3: [(0.3333333333333333, 14, 1.0, True),\n",
              "   (0.3333333333333333, 9, 0.0, True),\n",
              "   (0.3333333333333333, 12, 0.0, False)]},\n",
              " 14: {0: [(1.0, 14, 0, True)],\n",
              "  1: [(1.0, 14, 0, True)],\n",
              "  2: [(1.0, 14, 0, True)],\n",
              "  3: [(1.0, 14, 0, True)]},\n",
              " 15: {0: [(1.0, 15, 0, True)],\n",
              "  1: [(1.0, 15, 0, True)],\n",
              "  2: [(1.0, 15, 0, True)],\n",
              "  3: [(1.0, 15, 0, True)]}}"
            ]
          },
          "metadata": {},
          "execution_count": 9
        }
      ],
      "source": [
        "P"
      ]
    },
    {
      "cell_type": "markdown",
      "metadata": {
        "id": "TycyEMuPgy3M"
      },
      "source": [
        "# Value Iteration Algorithm"
      ]
    },
    {
      "cell_type": "code",
      "execution_count": 10,
      "metadata": {
        "id": "AUlEXpzRgu_n"
      },
      "outputs": [],
      "source": [
        "def value_iteration(P, gamma=1.0, theta=1e-10):\n",
        "    V = np.zeros(len(P), dtype=np.float64)\n",
        "    # Write your code here\n",
        "    while True:\n",
        "      Q = np.zeros((len(P),len(P[0])),dtype=np.float64)\n",
        "\n",
        "      for s in range(len(P)):\n",
        "        for a in range(len(P[s])):\n",
        "          for prob,next_s,reward,done in P[s][a]:\n",
        "\n",
        "            Q[s][a]+=prob*(reward+gamma*(V[next_s])*(not done))\n",
        "\n",
        "      if np.max(np.abs(V-np.max(Q,axis=1)))<theta:\n",
        "        break\n",
        "\n",
        "      V=np.max(Q,axis=1)\n",
        "\n",
        "    pi = lambda s:{s:a for s,a in enumerate(np.argmax(Q,axis=1))}[s]\n",
        "\n",
        "    return V, pi"
      ]
    },
    {
      "cell_type": "code",
      "execution_count": 11,
      "metadata": {
        "id": "DKT7CNWjfprP"
      },
      "outputs": [],
      "source": [
        "# Finding the optimal policy\n",
        "V_best_v, pi_best_v = value_iteration(P, gamma=0.99)\n"
      ]
    },
    {
      "cell_type": "code",
      "execution_count": 12,
      "metadata": {
        "id": "P2VMyY0fhd6B",
        "colab": {
          "base_uri": "https://localhost:8080/"
        },
        "outputId": "1fc8f5c8-59c8-45ff-a423-6f66eb90cef6"
      },
      "outputs": [
        {
          "output_type": "stream",
          "name": "stdout",
          "text": [
            "Name: Priyadharshan S\n",
            "Register Number: 212223240127\n",
            "Optimal policy and state-value function (VI):\n",
            "Policy:\n",
            "| 00      < | 01      < |           |           |\n",
            "| 04      < | 05      ^ | 06      < |           |\n",
            "| 08      < |           | 10      > | 11      v |\n",
            "| 12      v | 13      v |           |           |\n"
          ]
        }
      ],
      "source": [
        "# Printing the policy\n",
        "print(\"Name: Priyadharshan S\")\n",
        "print(\"Register Number: 212223240127\")\n",
        "print('Optimal policy and state-value function (VI):')\n",
        "print_policy(pi_best_v, P)"
      ]
    },
    {
      "cell_type": "code",
      "execution_count": 22,
      "metadata": {
        "id": "yEDEsHpWh3EB",
        "colab": {
          "base_uri": "https://localhost:8080/"
        },
        "outputId": "a416086d-1f27-48dd-efdd-fe34d3569049"
      },
      "outputs": [
        {
          "output_type": "stream",
          "name": "stdout",
          "text": [
            "Reaches goal 99.00%. Obtains an average undiscounted return of 0.9900.\n"
          ]
        }
      ],
      "source": [
        "# printing the success rate and the mean return\n",
        "print('Reaches goal {:.2f}%. Obtains an average undiscounted return of {:.4f}.'.format(\n",
        "    probability_success(env, pi_best_v, goal_state=goal_state)*100,\n",
        "    mean_return(env, pi_best_v)))"
      ]
    },
    {
      "cell_type": "code",
      "execution_count": 23,
      "metadata": {
        "id": "0i9CtQQ3iDFF",
        "colab": {
          "base_uri": "https://localhost:8080/"
        },
        "outputId": "c29c6f7d-f570-4e91-b147-bb614571a609"
      },
      "outputs": [
        {
          "output_type": "stream",
          "name": "stdout",
          "text": [
            "State-value function:\n",
            "| 00 0.7798 | 01 0.6895 |           |           |\n",
            "| 04 0.8034 | 05 0.6201 | 06 0.3862 |           |\n",
            "| 08 0.8514 |           | 10 0.5502 | 11  0.271 |\n",
            "| 12 0.9251 | 13 0.9532 |           |           |\n"
          ]
        }
      ],
      "source": [
        "# printing the state value function\n",
        "print_state_value_function(V_best_v, P, prec=4)"
      ]
    },
    {
      "cell_type": "code",
      "source": [],
      "metadata": {
        "id": "1ONoTMHskJxS"
      },
      "execution_count": null,
      "outputs": []
    }
  ],
  "metadata": {
    "colab": {
      "provenance": []
    },
    "kernelspec": {
      "display_name": "Python 3",
      "name": "python3"
    },
    "language_info": {
      "name": "python"
    }
  },
  "nbformat": 4,
  "nbformat_minor": 0
}